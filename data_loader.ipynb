{
 "cells": [
  {
   "cell_type": "code",
   "execution_count": 1,
   "metadata": {},
   "outputs": [],
   "source": [
    "import numpy as np\n",
    "import torch\n",
    "import json\n",
    "import random\n",
    "import imageio\n",
    "\n",
    "label_to_idx = {\n",
    "    'i2':0, 'i4':1, 'i5':2, 'io':3, 'ip':4, \n",
    "    'p11':5, 'p23':6, 'p26':7, 'p5':8, 'pl30':9, \n",
    "    'pl40':10, 'pl5':11, 'pl50':12, 'pl60':13, 'pl80':14, \n",
    "    'pn':15, 'pne':16, 'po':17, 'w57':18\n",
    "}\n",
    "\n",
    "def init_train_data():\n",
    "    # \"train-Copy1.json has far less data, in order to shorten running time\"\n",
    "    with open(\"train-Copy1.json\", \"r\") as f:\n",
    "        dic = json.loads(f.read())\n",
    "    names = list(dic)\n",
    "    labels = list(dic.values())\n",
    "    num_examples = len(names)\n",
    "    r = random.random\n",
    "    random.seed(0)\n",
    "    random.shuffle(names, random = r)\n",
    "    random.seed(0)\n",
    "    random.shuffle(labels, random = r)\n",
    "    features = []\n",
    "    idx_labels = []\n",
    "    for i in range(num_examples):\n",
    "        name = names[i]\n",
    "        label = labels[i]\n",
    "        path = \"Train\\\\\" + label + \"\\\\\" + name\n",
    "        img = imageio.imread(path)\n",
    "        new_img=transform.resize(img,(128,128))\n",
    "        features.append(np.array(new_img[:, :, 0 : 3]))\n",
    "        idx_labels.append(label_to_idx[label])\n",
    "    return features, idx_labels\n",
    "\n",
    "def train_data_iter(batch_size, features, labels):\n",
    "    num_examples = len(features)\n",
    "    for i in range(0, num_examples, batch_size):\n",
    "        j = min(i + batch_size, num_examples)\n",
    "        yield features[i: j], labels[i: j]"
   ]
  },
  {
   "cell_type": "markdown",
   "metadata": {},
   "source": [
    "大致搞懂了generator的机制  \n",
    "需要像下面这样在for循环中使用才行  \n",
    "初始化后像下面这样用就行了    \n",
    "X是一个list，每个元素为图片的tensor，形状为高 $\\times$ 宽 $\\times$ 通道数(4)  \n",
    "TODO:图片的最后一维好像都是一样的，我去尝试一下把它直接去掉，应该不影响  \n",
    "y是一个list，每个元素为图片的分类，按照上面的字典转换为整数  "
   ]
  },
  {
   "cell_type": "code",
   "execution_count": 2,
   "metadata": {},
   "outputs": [
    {
     "name": "stdout",
     "output_type": "stream",
     "text": [
      "[tensor([[[  5,  74,  69, 255],\n",
      "         [  5,  74,  69, 255],\n",
      "         [  5,  75,  67, 255],\n",
      "         ...,\n",
      "         [ 10,  72,  69, 255],\n",
      "         [ 10,  72,  69, 255],\n",
      "         [ 11,  73,  70, 255]],\n",
      "\n",
      "        [[  6,  72,  68, 255],\n",
      "         [  3,  72,  67, 255],\n",
      "         [  3,  74,  66, 255],\n",
      "         ...,\n",
      "         [  4,  74,  66, 255],\n",
      "         [  8,  73,  69, 255],\n",
      "         [  7,  73,  71, 255]],\n",
      "\n",
      "        [[  8,  74,  70, 255],\n",
      "         [  5,  74,  69, 255],\n",
      "         [  5,  76,  68, 255],\n",
      "         ...,\n",
      "         [  3,  74,  66, 255],\n",
      "         [  4,  73,  68, 255],\n",
      "         [  4,  73,  70, 255]],\n",
      "\n",
      "        ...,\n",
      "\n",
      "        [[  2,  71,  66, 255],\n",
      "         [  3,  72,  67, 255],\n",
      "         [  4,  71,  64, 255],\n",
      "         ...,\n",
      "         [  2,  74,  70, 255],\n",
      "         [  0,  73,  66, 255],\n",
      "         [  2,  71,  66, 255]],\n",
      "\n",
      "        [[  4,  73,  68, 255],\n",
      "         [  5,  71,  67, 255],\n",
      "         [  4,  71,  64, 255],\n",
      "         ...,\n",
      "         [  0,  74,  69, 255],\n",
      "         [  5,  74,  71, 255],\n",
      "         [  4,  70,  68, 255]],\n",
      "\n",
      "        [[  4,  73,  68, 255],\n",
      "         [  6,  72,  68, 255],\n",
      "         [  4,  71,  64, 255],\n",
      "         ...,\n",
      "         [  0,  74,  69, 255],\n",
      "         [  6,  72,  70, 255],\n",
      "         [  5,  69,  68, 255]]], dtype=torch.uint8), tensor([[[144, 137, 119, 255],\n",
      "         [137, 130, 112, 255],\n",
      "         [129, 120, 103, 255],\n",
      "         ...,\n",
      "         [ 81,  76,  56, 255],\n",
      "         [117, 112,  92, 255],\n",
      "         [124, 119,  99, 255]],\n",
      "\n",
      "        [[148, 137, 119, 255],\n",
      "         [138, 127, 109, 255],\n",
      "         [133, 124, 107, 255],\n",
      "         ...,\n",
      "         [ 86,  78,  59, 255],\n",
      "         [121, 116,  96, 255],\n",
      "         [134, 129, 109, 255]],\n",
      "\n",
      "        [[151, 138, 122, 255],\n",
      "         [135, 123, 107, 255],\n",
      "         [136, 124, 108, 255],\n",
      "         ...,\n",
      "         [ 97,  79,  65, 255],\n",
      "         [127, 119, 100, 255],\n",
      "         [138, 131, 112, 255]],\n",
      "\n",
      "        ...,\n",
      "\n",
      "        [[138, 119, 115, 255],\n",
      "         [131, 122, 113, 255],\n",
      "         [132, 133, 119, 255],\n",
      "         ...,\n",
      "         [ 91,  40,  39, 255],\n",
      "         [137,  94,  87, 255],\n",
      "         [158, 132, 117, 255]],\n",
      "\n",
      "        [[129, 118, 112, 255],\n",
      "         [141, 128, 120, 255],\n",
      "         [138, 125, 116, 255],\n",
      "         ...,\n",
      "         [118,  69,  64, 255],\n",
      "         [160, 126, 116, 255],\n",
      "         [151, 129, 115, 255]],\n",
      "\n",
      "        [[132, 125, 115, 255],\n",
      "         [136, 126, 117, 255],\n",
      "         [144, 131, 122, 255],\n",
      "         ...,\n",
      "         [131,  86,  80, 255],\n",
      "         [159, 131, 119, 255],\n",
      "         [144, 127, 111, 255]]], dtype=torch.uint8), tensor([[[ 96, 106,  54, 255],\n",
      "         [126, 136,  86, 255],\n",
      "         [115, 124,  77, 255],\n",
      "         ...,\n",
      "         [148, 165,  97, 255],\n",
      "         [125, 145,  74, 255],\n",
      "         [134, 154,  82, 255]],\n",
      "\n",
      "        [[ 91,  99,  50, 255],\n",
      "         [118, 128,  78, 255],\n",
      "         [104, 113,  66, 255],\n",
      "         ...,\n",
      "         [164, 181, 110, 255],\n",
      "         [155, 175, 103, 255],\n",
      "         [155, 176, 101, 255]],\n",
      "\n",
      "        [[ 95, 103,  54, 255],\n",
      "         [109, 119,  69, 255],\n",
      "         [ 92, 101,  54, 255],\n",
      "         ...,\n",
      "         [167, 185, 111, 255],\n",
      "         [163, 184, 109, 255],\n",
      "         [150, 171,  96, 255]],\n",
      "\n",
      "        ...,\n",
      "\n",
      "        [[ 55,  60,  19, 255],\n",
      "         [ 46,  51,  10, 255],\n",
      "         [ 55,  64,  19, 255],\n",
      "         ...,\n",
      "         [ 89, 113,  53, 255],\n",
      "         [ 94, 111,  57, 255],\n",
      "         [ 77,  86,  39, 255]],\n",
      "\n",
      "        [[ 66,  74,  35, 255],\n",
      "         [ 71,  79,  38, 255],\n",
      "         [116, 125,  80, 255],\n",
      "         ...,\n",
      "         [111, 124,  68, 255],\n",
      "         [ 87, 100,  44, 255],\n",
      "         [ 59,  72,  18, 255]],\n",
      "\n",
      "        [[ 74,  82,  43, 255],\n",
      "         [105, 114,  71, 255],\n",
      "         [138, 147, 102, 255],\n",
      "         ...,\n",
      "         [ 83,  96,  42, 255],\n",
      "         [ 77,  92,  37, 255],\n",
      "         [ 66,  81,  26, 255]]], dtype=torch.uint8)] [11, 11, 14]\n"
     ]
    }
   ],
   "source": [
    "features, labels = init_train_data()\n",
    "batch_size = 3\n",
    "for X, y in train_data_iter(batch_size, features, labels):\n",
    "    print(X, y)\n",
    "    # TODO\n",
    "    break # loop only once"
   ]
  },
  {
   "cell_type": "markdown",
   "metadata": {},
   "source": [
    "所以这下面的也都不用看了"
   ]
  },
  {
   "cell_type": "code",
   "execution_count": 3,
   "metadata": {},
   "outputs": [],
   "source": [
    "import numpy as np\n",
    "import torch\n",
    "import json\n",
    "import random\n",
    "import imageio\n",
    "\n",
    "label_to_idx = {\n",
    "    'i2':0, 'i4':1, 'i5':2, 'io':3, 'ip':4, \n",
    "    'p11':5, 'p23':6, 'p26':7, 'p5':8, 'pl30':9, \n",
    "    'pl40':10, 'pl5':11, 'pl50':12, 'pl60':13, 'pl80':14, \n",
    "    'pn':15, 'pne':16, 'po':17, 'w57':18\n",
    "}\n",
    "\n",
    "def get_train_iter(batch_size):\n",
    "    global idx\n",
    "    with open(\"train.json\", \"r\") as f:\n",
    "        dic = json.loads(f.read())\n",
    "    names = list(dic)\n",
    "    labels = list(dic.values())\n",
    "    num_examples = len(names)\n",
    "    r = random.random\n",
    "    random.seed(0)\n",
    "    random.shuffle(names, random = r)\n",
    "    random.seed(0)\n",
    "    random.shuffle(labels, random = r)\n",
    "    X = []\n",
    "    y = []\n",
    "    for j in range(batch_size):\n",
    "        if j == num_examples:\n",
    "            break\n",
    "        name = names[idx]\n",
    "        label = labels[idx]\n",
    "        path = \"Train\\\\\" + label + \"\\\\\" + name\n",
    "        img = imageio.imread(path)\n",
    "        idx = idx + 1\n",
    "        X.append(torch.tensor(img))\n",
    "        y.append(label_to_idx[label])\n",
    "    return X, y"
   ]
  },
  {
   "cell_type": "markdown",
   "metadata": {},
   "source": [
    "完整复制上面的代码后，初始化idx = 0，调用函数，每次可以得到随机的样本  \n",
    "X是一个list，每个元素为图片的tensor，形状为高 $\\times$ 宽 $\\times$ 通道数(4)  \n",
    "y是一个list，每个元素为图片的分类，按照上面的字典转换为整数  \n",
    "我目前没有搞清楚d2l那本书里用的yield返回generator的方法，所以没用，我之后会去学，那个方法可以避免每次都重复读取文件，也可以避免手动初始化idx  \n",
    "下面是调用样例"
   ]
  },
  {
   "cell_type": "code",
   "execution_count": 4,
   "metadata": {},
   "outputs": [
    {
     "name": "stdout",
     "output_type": "stream",
     "text": [
      "<class 'list'>\n",
      "<class 'list'>\n",
      "10\n",
      "10\n"
     ]
    }
   ],
   "source": [
    "idx = 0\n",
    "batch_size = 10\n",
    "X, y = get_train_iter(batch_size)\n",
    "print(type(X))\n",
    "print(type(y))\n",
    "print(len(X))\n",
    "print(len(y))"
   ]
  },
  {
   "cell_type": "markdown",
   "metadata": {},
   "source": [
    "后面是实验，可以不管"
   ]
  },
  {
   "cell_type": "code",
   "execution_count": 5,
   "metadata": {},
   "outputs": [],
   "source": [
    "import json\n",
    "# https://www.bbsmax.com/A/qVdeWB4AJP/\n",
    "# https://blog.csdn.net/chinaltx/article/details/86587435"
   ]
  },
  {
   "cell_type": "code",
   "execution_count": 6,
   "metadata": {},
   "outputs": [
    {
     "name": "stdout",
     "output_type": "stream",
     "text": [
      "<class 'dict'>\n",
      "['pl5_0053.png', 'i5_0520.png', 'pne_0610.png', 'io_0591.png', 'pn_1109.png', 'pn_1373.png', 'p11_0431.png', 'po_0492.png', 'pl30_0404.png', 'pne_0521.png'] ['pl5', 'i5', 'pne', 'io', 'pn', 'pn', 'p11', 'po', 'pl30', 'pne']\n"
     ]
    }
   ],
   "source": [
    "import random\n",
    "with open (\"train.json\", \"r\") as f:\n",
    "    dic = json.loads(f.read())\n",
    "    print (type(dic))\n",
    "list0 = list(dic)\n",
    "list1 = list(dic.values())\n",
    "r = random.random\n",
    "random.seed(0)\n",
    "random.shuffle(list0, random = r)\n",
    "random.seed(0)\n",
    "random.shuffle(list1, random = r)\n",
    "print(list0[0:10], list1[0:10])"
   ]
  },
  {
   "cell_type": "code",
   "execution_count": 7,
   "metadata": {},
   "outputs": [
    {
     "name": "stdout",
     "output_type": "stream",
     "text": [
      "pl5_0094.png\n",
      "pl5\n",
      "pl5_0300.png\n",
      "pl5\n",
      "pl5_0317.png\n",
      "pl5\n",
      "pl5_0041.png\n",
      "pl5\n",
      "pl5_0130.png\n",
      "pl5\n",
      "pl5_0040.png\n",
      "pl5\n",
      "pl5_0148.png\n",
      "pl5\n",
      "pl5_0127.png\n",
      "pl5\n",
      "pl5_0215.png\n",
      "pl5\n",
      "pl5_0186.png\n",
      "pl5\n",
      "pl5_0277.png\n",
      "pl5\n"
     ]
    }
   ],
   "source": [
    "i = 0\n",
    "for (x, y) in dic.items():\n",
    "    print(x)\n",
    "    print(y)\n",
    "    i = i + 1\n",
    "    if i > 10:\n",
    "        break"
   ]
  },
  {
   "cell_type": "code",
   "execution_count": 8,
   "metadata": {},
   "outputs": [
    {
     "name": "stdout",
     "output_type": "stream",
     "text": [
      "<class 'imageio.core.util.Array'> (65, 44, 4)\n"
     ]
    }
   ],
   "source": [
    "import imageio\n",
    "p = imageio.imread(r\"Train\\pl5\\pl5_0094.png\")\n",
    "print(type(p), p.shape)\n",
    "# https://www.cnblogs.com/devilmaycry812839668/p/9344581.html"
   ]
  },
  {
   "cell_type": "code",
   "execution_count": 9,
   "metadata": {},
   "outputs": [
    {
     "name": "stdout",
     "output_type": "stream",
     "text": [
      "<class 'torch.Tensor'> torch.Size([65, 44, 4])\n"
     ]
    }
   ],
   "source": [
    "import torch\n",
    "p = torch.tensor(p)\n",
    "print(type(p), p.shape)"
   ]
  }
 ],
 "metadata": {
  "kernelspec": {
   "display_name": "pytorch_gpu",
   "language": "python",
   "name": "pytorch_gpu"
  },
  "language_info": {
   "codemirror_mode": {
    "name": "ipython",
    "version": 3
   },
   "file_extension": ".py",
   "mimetype": "text/x-python",
   "name": "python",
   "nbconvert_exporter": "python",
   "pygments_lexer": "ipython3",
   "version": "3.7.6"
  }
 },
 "nbformat": 4,
 "nbformat_minor": 4
}
